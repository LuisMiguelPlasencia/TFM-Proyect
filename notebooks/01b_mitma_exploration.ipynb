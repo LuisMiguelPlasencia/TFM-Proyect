{
  "cells": [
    {
      "cell_type": "code",
      "execution_count": null,
      "metadata": {
        "vscode": {
          "languageId": "plaintext"
        }
      },
      "outputs": [],
      "source": [
        "# MITMA Data Exploration\n",
        "\n",
        "This notebook performs an exploratory analysis of the data provided by the Spanish Ministry of Transport, Mobility and Urban Agenda (MITMA).\n",
        "\n",
        "## Objectives\n",
        "- Analyze the structure and quality of MITMA data\n",
        "- Identify trends and patterns in key variables\n",
        "- Detect potential data issues or inconsistencies\n",
        "- Generate informative visualizations\n",
        "- Propose necessary transformations for modeling\n"
      ]
    }
  ],
  "metadata": {
    "language_info": {
      "name": "python"
    }
  },
  "nbformat": 4,
  "nbformat_minor": 2
}
